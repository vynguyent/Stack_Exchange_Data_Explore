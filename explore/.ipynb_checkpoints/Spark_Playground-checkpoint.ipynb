{
 "cells": [
  {
   "cell_type": "code",
   "execution_count": 1,
   "metadata": {
    "collapsed": false
   },
   "outputs": [
    {
     "name": "stdout",
     "output_type": "stream",
     "text": [
      "Welcome to\n",
      "      ____              __\n",
      "     / __/__  ___ _____/ /__\n",
      "    _\\ \\/ _ \\/ _ `/ __/  '_/\n",
      "   /__ / .__/\\_,_/_/ /_/\\_\\   version 2.0.0\n",
      "      /_/\n",
      "\n",
      "Using Python version 2.7.12 (default, Jun 29 2016 11:07:13)\n",
      "SparkSession available as 'spark'.\n"
     ]
    }
   ],
   "source": [
    "import os\n",
    "import sys\n",
    "\n",
    "spark_home = \"D:\\spark-2.0.0-bin-hadoop2.7\"\n",
    "os.environ['SPARK_HOME'] = spark_home\n",
    "sys.path.append(os.path.join(spark_home, \"python\"))\n",
    "sys.path.append(os.path.join(spark_home, \"python\", \"lib\", \"py4j-0.10.1-src.zip\"))\n",
    "\n",
    "execfile(os.path.join(spark_home, \"python\", \"pyspark\", \"shell.py\"))"
   ]
  },
  {
   "cell_type": "code",
   "execution_count": 121,
   "metadata": {
    "collapsed": false
   },
   "outputs": [],
   "source": [
    "import xmltodict\n",
    "import json\n",
    "communities = ['3dprinting.stackexchange.com', 'academia.stackexchange.com', 'ai.stackexchange.com', 'android.stackexchange.com', 'anime.stackexchange.com', 'apple.stackexchange.com', 'arabic.stackexchange.com', 'arduino.stackexchange.com', 'askubuntu.com', 'astronomy.stackexchange.com', 'aviation.stackexchange.com', 'avp.stackexchange.com', 'beer.stackexchange.com', 'bicycles.stackexchange.com', 'biology.stackexchange.com', 'bitcoin.stackexchange.com', 'blender.stackexchange.com', 'boardgames.stackexchange.com', 'bricks.stackexchange.com', 'buddhism.stackexchange.com', 'chemistry.stackexchange.com', 'chess.stackexchange.com', 'chinese.stackexchange.com', 'christianity.stackexchange.com', 'civicrm.stackexchange.com', 'codegolf.stackexchange.com', 'codereview.stackexchange.com', 'coffee.stackexchange.com', 'cogsci.stackexchange.com', 'computergraphics.stackexchange.com', 'cooking.stackexchange.com', 'craftcms.stackexchange.com', 'crafts.stackexchange.com', 'crypto.stackexchange.com', 'cs.stackexchange.com', 'cstheory.stackexchange.com', 'datascience.stackexchange.com', 'dba.stackexchange.com', 'diy.stackexchange.com', 'drupal.stackexchange.com', 'dsp.stackexchange.com', 'earthscience.stackexchange.com', 'ebooks.stackexchange.com', 'economics.stackexchange.com', 'electronics.stackexchange.com', 'elementaryos.stackexchange.com', 'ell.stackexchange.com', 'emacs.stackexchange.com', 'engineering.stackexchange.com', 'english.stackexchange.com', 'es.stackoverflow.com', 'ethereum.stackexchange.com', 'expatriates.stackexchange.com', 'expressionengine.stackexchange.com', 'fitness.stackexchange.com', 'freelancing.stackexchange.com', 'french.stackexchange.com', 'gamedev.stackexchange.com', 'gaming.stackexchange.com', 'gardening.stackexchange.com', 'genealogy.stackexchange.com', 'german.stackexchange.com', 'gis.stackexchange.com', 'graphicdesign.stackexchange.com', 'ham.stackexchange.com', 'hardwarerecs.stackexchange.com', 'health.stackexchange.com', 'hermeneutics.stackexchange.com', 'hinduism.stackexchange.com', 'history.stackexchange.com', 'homebrew.stackexchange.com', 'hsm.stackexchange.com', 'islam.stackexchange.com', 'italian.stackexchange.com', 'ja.stackoverflow.com', 'japanese.stackexchange.com', 'joomla.stackexchange.com', 'judaism.stackexchange.com', 'korean.stackexchange.com', 'languagelearning.stackexchange.com', 'latin.stackexchange.com', 'law.stackexchange.com', 'lifehacks.stackexchange.com', 'linguistics.stackexchange.com', 'magento.stackexchange.com', 'martialarts.stackexchange.com', 'math.stackexchange.com', 'matheducators.stackexchange.com', 'mathematica.stackexchange.com', 'mathoverflow.net', 'mechanics.stackexchange.com', 'meta.3dprinting.stackexchange.com', 'meta.academia.stackexchange.com', 'meta.ai.stackexchange.com', 'meta.android.stackexchange.com', 'meta.anime.stackexchange.com', 'meta.apple.stackexchange.com', 'meta.arabic.stackexchange.com', 'meta.arduino.stackexchange.com', 'meta.askubuntu.com', 'meta.astronomy.stackexchange.com', 'meta.aviation.stackexchange.com', 'meta.avp.stackexchange.com', 'meta.beer.stackexchange.com', 'meta.bicycles.stackexchange.com', 'meta.biology.stackexchange.com', 'meta.bitcoin.stackexchange.com', 'meta.blender.stackexchange.com', 'meta.boardgames.stackexchange.com', 'meta.bricks.stackexchange.com', 'meta.buddhism.stackexchange.com', 'meta.chemistry.stackexchange.com', 'meta.chess.stackexchange.com', 'meta.chinese.stackexchange.com', 'meta.christianity.stackexchange.com', 'meta.civicrm.stackexchange.com', 'meta.codegolf.stackexchange.com', 'meta.codereview.stackexchange.com', 'meta.coffee.stackexchange.com', 'meta.cogsci.stackexchange.com', 'meta.computergraphics.stackexchange.com', 'meta.cooking.stackexchange.com', 'meta.craftcms.stackexchange.com', 'meta.crafts.stackexchange.com', 'meta.crypto.stackexchange.com', 'meta.cs.stackexchange.com', 'meta.cstheory.stackexchange.com', 'meta.datascience.stackexchange.com', 'meta.dba.stackexchange.com', 'meta.diy.stackexchange.com', 'meta.drupal.stackexchange.com', 'meta.dsp.stackexchange.com', 'meta.earthscience.stackexchange.com', 'meta.ebooks.stackexchange.com', 'meta.economics.stackexchange.com', 'meta.electronics.stackexchange.com', 'meta.elementaryos.stackexchange.com', 'meta.ell.stackexchange.com', 'meta.emacs.stackexchange.com', 'meta.engineering.stackexchange.com', 'meta.english.stackexchange.com', 'meta.es.stackoverflow.com', 'meta.ethereum.stackexchange.com', 'meta.expatriates.stackexchange.com', 'meta.expressionengine.stackexchange.com', 'meta.fitness.stackexchange.com', 'meta.freelancing.stackexchange.com', 'meta.french.stackexchange.com', 'meta.gamedev.stackexchange.com', 'meta.gaming.stackexchange.com', 'meta.gardening.stackexchange.com', 'meta.genealogy.stackexchange.com', 'meta.german.stackexchange.com', 'meta.gis.stackexchange.com', 'meta.graphicdesign.stackexchange.com', 'meta.ham.stackexchange.com', 'meta.hardwarerecs.stackexchange.com', 'meta.health.stackexchange.com', 'meta.hermeneutics.stackexchange.com', 'meta.hinduism.stackexchange.com', 'meta.history.stackexchange.com', 'meta.homebrew.stackexchange.com', 'meta.hsm.stackexchange.com', 'meta.islam.stackexchange.com', 'meta.italian.stackexchange.com', 'meta.ja.stackoverflow.com', 'meta.japanese.stackexchange.com', 'meta.joomla.stackexchange.com', 'meta.judaism.stackexchange.com', 'meta.korean.stackexchange.com', 'meta.languagelearning.stackexchange.com', 'meta.latin.stackexchange.com', 'meta.law.stackexchange.com', 'meta.lifehacks.stackexchange.com', 'meta.linguistics.stackexchange.com', 'meta.magento.stackexchange.com', 'meta.martialarts.stackexchange.com', 'meta.math.stackexchange.com', 'meta.matheducators.stackexchange.com', 'meta.mathematica.stackexchange.com', 'meta.mathoverflow.net', 'meta.mechanics.stackexchange.com', 'meta.moderators.stackexchange.com', 'meta.monero.stackexchange.com', 'meta.money.stackexchange.com', 'meta.movies.stackexchange.com', 'meta.music.stackexchange.com', 'meta.musicfans.stackexchange.com', 'meta.mythology.stackexchange.com', 'meta.networkengineering.stackexchange.com', 'meta.opendata.stackexchange.com', 'meta.opensource.stackexchange.com', 'meta.outdoors.stackexchange.com', 'meta.parenting.stackexchange.com', 'meta.patents.stackexchange.com', 'meta.pets.stackexchange.com', 'meta.philosophy.stackexchange.com', 'meta.photo.stackexchange.com', 'meta.physics.stackexchange.com', 'meta.pm.stackexchange.com', 'meta.poker.stackexchange.com', 'meta.politics.stackexchange.com', 'meta.portuguese.stackexchange.com', 'meta.productivity.stackexchange.com', 'meta.programmers.stackexchange.com', 'meta.pt.stackoverflow.com', 'meta.puzzling.stackexchange.com', 'meta.quant.stackexchange.com', 'meta.raspberrypi.stackexchange.com', 'meta.retrocomputing.stackexchange.com', 'meta.reverseengineering.stackexchange.com', 'meta.robotics.stackexchange.com', 'meta.rpg.stackexchange.com', 'meta.ru.stackoverflow.com', 'meta.rus.stackexchange.com', 'meta.russian.stackexchange.com', 'meta.salesforce.stackexchange.com', 'meta.scicomp.stackexchange.com', 'meta.scifi.stackexchange.com', 'meta.security.stackexchange.com', 'meta.serverfault.com', 'meta.sharepoint.stackexchange.com', 'meta.skeptics.stackexchange.com', 'meta.softwarerecs.stackexchange.com', 'meta.sound.stackexchange.com', 'meta.space.stackexchange.com', 'meta.spanish.stackexchange.com', 'meta.sports.stackexchange.com', 'meta.sqa.stackexchange.com', 'meta.stackexchange.com', 'meta.stackoverflow.com', 'meta.startups.stackexchange.com', 'meta.stats.stackexchange.com', 'meta.superuser.com', 'meta.sustainability.stackexchange.com', 'meta.tex.stackexchange.com', 'meta.tor.stackexchange.com', 'meta.travel.stackexchange.com', 'meta.tridion.stackexchange.com', 'meta.unix.stackexchange.com', 'meta.ux.stackexchange.com', 'meta.vi.stackexchange.com', 'meta.webapps.stackexchange.com', 'meta.webmasters.stackexchange.com', 'meta.windowsphone.stackexchange.com', 'meta.woodworking.stackexchange.com', 'meta.wordpress.stackexchange.com', 'meta.workplace.stackexchange.com', 'meta.worldbuilding.stackexchange.com', 'meta.writers.stackexchange.com', 'moderators.stackexchange.com', 'monero.stackexchange.com', 'money.stackexchange.com', 'movies.stackexchange.com', 'music.stackexchange.com', 'musicfans.stackexchange.com', 'mythology.stackexchange.com', 'networkengineering.stackexchange.com', 'opendata.stackexchange.com', 'opensource.stackexchange.com', 'outdoors.stackexchange.com', 'parenting.stackexchange.com', 'patents.stackexchange.com', 'pets.stackexchange.com', 'philosophy.stackexchange.com', 'photo.stackexchange.com', 'physics.stackexchange.com', 'pm.stackexchange.com', 'poker.stackexchange.com', 'politics.stackexchange.com', 'portuguese.stackexchange.com', 'productivity.stackexchange.com', 'programmers.stackexchange.com', 'pt.stackoverflow.com', 'puzzling.stackexchange.com', 'quant.stackexchange.com', 'raspberrypi.stackexchange.com', 'retrocomputing.stackexchange.com', 'reverseengineering.stackexchange.com', 'robotics.stackexchange.com', 'rpg.stackexchange.com', 'ru.stackoverflow.com', 'rus.stackexchange.com', 'russian.stackexchange.com', 'salesforce.stackexchange.com', 'scicomp.stackexchange.com', 'scifi.stackexchange.com', 'security.stackexchange.com', 'serverfault.com', 'sharepoint.stackexchange.com', 'skeptics.stackexchange.com', 'softwarerecs.stackexchange.com', 'sound.stackexchange.com', 'space.stackexchange.com', 'spanish.stackexchange.com', 'sports.stackexchange.com', 'sqa.stackexchange.com', 'stackapps.com', 'stackoverflow.com', 'startups.stackexchange.com', 'stats.stackexchange.com', 'superuser.com', 'sustainability.stackexchange.com', 'tex.stackexchange.com', 'tor.stackexchange.com', 'travel.stackexchange.com', 'tridion.stackexchange.com', 'unix.stackexchange.com', 'ux.stackexchange.com', 'vi.stackexchange.com', 'webapps.stackexchange.com', 'webmasters.stackexchange.com', 'windowsphone.stackexchange.com', 'woodworking.stackexchange.com', 'wordpress.stackexchange.com', 'workplace.stackexchange.com', 'worldbuilding.stackexchange.com', 'writers.stackexchange.com'] \n",
    "# communities"
   ]
  },
  {
   "cell_type": "code",
   "execution_count": 132,
   "metadata": {
    "collapsed": false
   },
   "outputs": [],
   "source": [
    "def get_tags(line):\n",
    "    line = xmltodict.parse(line)\n",
    "    creation_date = line['row']['@CreationDate'].split(\"-\")\n",
    "    yyyy_mm = str(creation_date[0] + \"-\" + creation_date[1])\n",
    "    tags = line[\"row\"][\"@Tags\"].replace(\"><\", \",\").replace(\"<\", \"\").replace(\">\", \"\")\n",
    "    tags = tags.split(\",\")\n",
    "    return map(lambda x: (x, yyyy_mm), tags)\n",
    "\n",
    "def group_by_date(x):\n",
    "    creation_dates = {}\n",
    "    for d in set(x):\n",
    "        creation_dates[d] = list(x).count(d)\n",
    "    return creation_dates\n",
    "    \n",
    "def count_tags(community=\"stats.stackexchange.com\"):\n",
    "    wtf = sc.textFile(\"E:\\\\stackexchange_Extracted\\\\\" + community + \"\\\\Posts.xml\")\n",
    "    tag_count = wtf.filter(lambda x: 'PostTypeId=\"1\"' in x).flatMap(get_tags).groupByKey().mapValues(group_by_date)\n",
    "    return tag_count.collect()"
   ]
  },
  {
   "cell_type": "code",
   "execution_count": 133,
   "metadata": {
    "collapsed": false
   },
   "outputs": [
    {
     "name": "stdout",
     "output_type": "stream",
     "text": [
      "3dprinting.stackexchange.com\n",
      "yes!\n"
     ]
    }
   ],
   "source": [
    "results = {}\n",
    "for community in communities:\n",
    "    print community\n",
    "    if community == \"3dprinting.stackexchange.com\":\n",
    "        results[\"three_d_printing.stackexchange.com\"] = count_tags(community)\n",
    "    else:\n",
    "        results[community] = count_tags(community)\n",
    "with open(\"tags_count.txt\", \"w\") as f:\n",
    "    f.write(json.dumps(results))"
   ]
  }
 ],
 "metadata": {
  "anaconda-cloud": {},
  "kernelspec": {
   "display_name": "Python [Root]",
   "language": "python",
   "name": "Python [Root]"
  },
  "language_info": {
   "codemirror_mode": {
    "name": "ipython",
    "version": 2
   },
   "file_extension": ".py",
   "mimetype": "text/x-python",
   "name": "python",
   "nbconvert_exporter": "python",
   "pygments_lexer": "ipython2",
   "version": "2.7.12"
  }
 },
 "nbformat": 4,
 "nbformat_minor": 0
}
